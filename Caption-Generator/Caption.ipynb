{
  "cells": [
    {
      "cell_type": "markdown",
      "metadata": {},
      "source": [
        "# Preparation"
      ]
    },
    {
      "cell_type": "code",
      "execution_count": null,
      "metadata": {
        "id": "2xW0u9s0QaPc"
      },
      "outputs": [],
      "source": [
        "import pandas as pd\n",
        "import datetime as dt\n",
        "\n",
        "sheet_id = 'ID_SHEET'\n",
        "sheet_name = 'NAMA_SHEET'\n",
        "url = f\"https://docs.google.com/spreadsheets/d/{sheet_id}/gviz/tq?tqx=out:csv&sheet={sheet_name}\"\n",
        "df = pd.read_csv(url)\n",
        "df = df[['Prioritas','Nama Perusahaan','Email']]"
      ]
    },
    {
      "cell_type": "code",
      "execution_count": null,
      "metadata": {
        "id": "rG07Q0ZsRMjP"
      },
      "outputs": [],
      "source": [
        "def time_now():\n",
        "  now = (dt.datetime.now().hour + 7)%24\n",
        "  if 5<=now<=10:\n",
        "    return 'pagi'\n",
        "  elif 11<=now<=14:\n",
        "    return 'siang'\n",
        "  elif 15<=now<=17:\n",
        "    return 'sore'\n",
        "  else:\n",
        "    return 'malam'"
      ]
    },
    {
      "cell_type": "code",
      "execution_count": null,
      "metadata": {
        "id": "KzGDVNplRHdA"
      },
      "outputs": [],
      "source": [
        "def caption_sponsor(index,nama,DF=df):\n",
        "  perusahaan = DF.iloc[index-2,1]\n",
        "  email = DF.iloc[index-2,2]\n",
        "  print(f'''Email:\n",
        "{email}\n",
        "\n",
        "SUBJECT:\n",
        "Permohonan Kerja Sama Sponsorship\n",
        "\n",
        "ISI:\n",
        "Selamat {time_now()}, Bapak/Ibu Divisi Hubungan Masyarakat {perusahaan}\n",
        "\n",
        "[BODY EMAIL]\n",
        "\n",
        "Salam,\n",
        "{nama}\n",
        "  ''')"
      ]
    },
    {
      "cell_type": "markdown",
      "metadata": {
        "id": "sg7gmWszQGbh"
      },
      "source": [
        "# Load caption approach Sponsor"
      ]
    },
    {
      "cell_type": "code",
      "execution_count": null,
      "metadata": {
        "colab": {
          "base_uri": "https://localhost:8080/"
        },
        "id": "CJUWQAwZYiOu",
        "outputId": "6e3e8318-bc5c-4f59-a1df-9d915d1cb2d5"
      },
      "outputs": [],
      "source": [
        "# Contoh penggunaan \n",
        "# 1. tulis caption_sponsor([index ke berapa],[nama kamu])\n",
        "# 2. abis itu pencet run (tombol segitiga) , copy paste yang di output \n",
        "# 3. kalo mau lagi , ulangin step 1 , tinggal ganti index\n",
        "\n",
        "caption_sponsor(1,'NAMA')\n"
      ]
    }
  ],
  "metadata": {
    "colab": {
      "collapsed_sections": [
        "I8nNcXHRQZNn",
        "6eCTwOFPlBRD",
        "695a9BqLdJRZ"
      ],
      "name": "Caption.ipynb",
      "provenance": []
    },
    "kernelspec": {
      "display_name": "Python 3",
      "name": "python3"
    },
    "language_info": {
      "name": "python"
    }
  },
  "nbformat": 4,
  "nbformat_minor": 0
}
