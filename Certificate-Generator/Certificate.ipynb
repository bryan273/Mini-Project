{
  "cells": [
    {
      "cell_type": "markdown",
      "metadata": {
        "id": "9rS81isXe_3u"
      },
      "source": [
        "# Certificate Generator"
      ]
    },
    {
      "cell_type": "code",
      "execution_count": 2,
      "metadata": {
        "colab": {
          "base_uri": "https://localhost:8080/"
        },
        "id": "vAVTcbq2UEto",
        "outputId": "d500523a-24d5-4c26-d676-c4d207ddca7a"
      },
      "outputs": [],
      "source": [
        "import pandas as pd\n",
        "import matplotlib.pyplot as plt"
      ]
    },
    {
      "cell_type": "code",
      "execution_count": 3,
      "metadata": {
        "id": "DOrE9KHYU6H7"
      },
      "outputs": [],
      "source": [
        "df = pd.read_csv('DATA.csv')"
      ]
    },
    {
      "cell_type": "code",
      "execution_count": 7,
      "metadata": {
        "id": "82i2uvvzCmJf"
      },
      "outputs": [],
      "source": [
        "from PIL import Image, ImageFont, ImageDraw\n",
        "\n",
        "def certificate_maker(column_name, title, df=df):\n",
        "  column = df[column_name]\n",
        "  \n",
        "  for name in column:\n",
        "\n",
        "    if str(name) == 'nan': \n",
        "      continue\n",
        "    img = Image.open(f\"{title}.png\")\n",
        "    draw = ImageDraw.Draw(img)\n",
        "\n",
        "    # manage font size here\n",
        "    font_1 = ImageFont.truetype(\"Retro_Gaming.ttf\", 30)\n",
        "    font_2 = ImageFont.truetype(\"Retro_Gaming.ttf\", 130)\n",
        "\n",
        "    str_1 = name.strip()\n",
        "    str_1 = \" \".join(str_1.split(\" \")[:3])\n",
        "    str_2 = title\n",
        "\n",
        "    W, H = img.size\n",
        "    w1, h1 = draw.textsize(str_1, font=font_1)\n",
        "    w2, h2 = draw.textsize(str_2, font=font_2)\n",
        " \n",
        "    # manage height and color text here \n",
        "    draw.text(((W-w1)/2,268),str_1,(0,0,0),font=font_1)\n",
        "    draw.text(((W-w2)/2,1430),str_2,(29,66,90),font=font_2)\n",
        "    img.save(f'{title}_{str_1}.png')\n",
        "    plt.imshow(img)\n",
        "    print(str_1)"
      ]
    },
    {
      "cell_type": "markdown",
      "metadata": {
        "id": "7bO4po9VfCb4"
      },
      "source": [
        "# Test"
      ]
    },
    {
      "cell_type": "code",
      "execution_count": null,
      "metadata": {
        "colab": {
          "base_uri": "https://localhost:8080/",
          "height": 269
        },
        "id": "BEZ5UdMrYro_",
        "outputId": "8b82de49-4f5b-45c4-850b-2ed84fd52ad1"
      },
      "outputs": [],
      "source": [
        "certificate_maker('Nama Lengkap', 'Kategori', df)"
      ]
    }
  ],
  "metadata": {
    "colab": {
      "collapsed_sections": [
        "9rS81isXe_3u"
      ],
      "name": "Certificate.ipynb",
      "provenance": []
    },
    "interpreter": {
      "hash": "17045e8f950604ca31ee31f66f30bf5d100d2e9ce9b5e7c7d20752a0bd3e187f"
    },
    "kernelspec": {
      "display_name": "Python 3.9.12 64-bit (windows store)",
      "language": "python",
      "name": "python3"
    },
    "language_info": {
      "codemirror_mode": {
        "name": "ipython",
        "version": 3
      },
      "file_extension": ".py",
      "mimetype": "text/x-python",
      "name": "python",
      "nbconvert_exporter": "python",
      "pygments_lexer": "ipython3",
      "version": "3.9.12"
    }
  },
  "nbformat": 4,
  "nbformat_minor": 0
}
