{
  "nbformat": 4,
  "nbformat_minor": 0,
  "metadata": {
    "colab": {
      "name": "Produktif check.ipynb",
      "provenance": [],
      "collapsed_sections": [
        "Rk1hM7DtlPrj"
      ]
    },
    "kernelspec": {
      "name": "python3",
      "display_name": "Python 3"
    },
    "language_info": {
      "name": "python"
    }
  },
  "cells": [
    {
      "cell_type": "markdown",
      "metadata": {
        "id": "Rk1hM7DtlPrj"
      },
      "source": [
        "#Productivity checker"
      ]
    },
    {
      "cell_type": "code",
      "metadata": {
        "id": "IWgzjPpAteK5"
      },
      "source": [
        "import numpy as np\n",
        "import pandas as pd\n",
        "import datetime as dt"
      ],
      "execution_count": null,
      "outputs": []
    },
    {
      "cell_type": "code",
      "metadata": {
        "id": "_co3vhW7rV6F"
      },
      "source": [
        "sheet_id = '1k-DCn3jEtTvnArzDs_bZID1C4d5jjytMQ2qdMdEwzgc'\n",
        "sheet_name_1 = 'Bryan'\n",
        "url_1 = f\"https://docs.google.com/spreadsheets/d/{sheet_id}/gviz/tq?tqx=out:csv&sheet={sheet_name_1}\"\n",
        "sheet_name_2 = 'Kaylee'\n",
        "url_2 = f\"https://docs.google.com/spreadsheets/d/{sheet_id}/gviz/tq?tqx=out:csv&sheet={sheet_name_2}\"\n",
        "sheet_name_3 = 'Leony'\n",
        "url_3 = f\"https://docs.google.com/spreadsheets/d/{sheet_id}/gviz/tq?tqx=out:csv&sheet={sheet_name_3}\"\n",
        "sheet_name_4 = 'Catherine'\n",
        "url_4 = f\"https://docs.google.com/spreadsheets/d/{sheet_id}/gviz/tq?tqx=out:csv&sheet={sheet_name_4}\"\n",
        "Bryan_df = pd.read_csv(url_1,index_col = \"Time / Date\")\n",
        "Kaylee_df = pd.read_csv(url_2,index_col = \"Time / Date\")\n",
        "Leony_df = pd.read_csv(url_3,index_col = \"Time / Date\")\n",
        "Catherine_df = pd.read_csv(url_4,index_col = \"Time / Date\")"
      ],
      "execution_count": null,
      "outputs": []
    },
    {
      "cell_type": "code",
      "metadata": {
        "id": "4zowwq__0MqM"
      },
      "source": [
        "sheet_productivity_name = 'Productivity'\n",
        "url_productivity = f\"https://docs.google.com/spreadsheets/d/{sheet_id}/gviz/tq?tqx=out:csv&sheet={sheet_productivity_name}\"\n",
        "Productivity_df = pd.read_csv(url_productivity,index_col = \"Name / Date\")"
      ],
      "execution_count": null,
      "outputs": []
    },
    {
      "cell_type": "code",
      "metadata": {
        "id": "29u-Y29MB_ns"
      },
      "source": [
        "class productive:\n",
        "  days = 1\n",
        "  date_today = str(dt.datetime.now().date())\n",
        "  date_today = date_today.replace('-','/')\n",
        "  date_yesterday = str(dt.datetime.now().date()-dt.timedelta(days=days))\n",
        "  date_yesterday = date_yesterday.replace('-','/')\n",
        "  if date_yesterday[-2]=='0':\n",
        "    date_yesterday = date_yesterday[:-2] + date_yesterday[-1]\n",
        "  if date_today[-2]=='0':\n",
        "    date_today = date_today[:-2] + date_today[-1]\n",
        "\n",
        "  def __init__(self,df,name):\n",
        "    self.df = df\n",
        "    self.name = name\n",
        "\n",
        "  def productivity_today(self):\n",
        "    null_1 = sum(pd.isnull(self.df.loc[:,productive.date_today]))\n",
        "    score = round((1-null_1/24)*100,2)\n",
        "    print(f\"{self.name} productivity today is {score}%\")\n",
        "    return score\n",
        "\n",
        "  def productivity_yesterday(self):\n",
        "    null_1 = sum(pd.isnull(self.df.loc[:,productive.date_yesterday]))\n",
        "    score = round((1-null_1/24)*100,2)\n",
        "    print(f\"{self.name} productivity yesterday is {score}%\")\n",
        "    return score\n",
        "\n",
        "  def productivity_this_week(self):\n",
        "    null_1 = sum(sum(pd.isnull(self.df.iloc[0:24,0:7].values)))\n",
        "    score = round((1-null_1/(24*7))*100,2)\n",
        "    print(f\"{self.name} productivity this week is {score}%\")\n",
        "    return score"
      ],
      "execution_count": null,
      "outputs": []
    },
    {
      "cell_type": "code",
      "metadata": {
        "id": "uLlXHlC-I87s"
      },
      "source": [
        "def summary(when,*lists):\n",
        "  scores = []\n",
        "  if when == 'today':\n",
        "    for name in lists:\n",
        "      val = name.productivity_today()\n",
        "      scores.append(val)\n",
        "  elif when == 'yesterday':\n",
        "    for name in lists:\n",
        "      val = name.productivity_yesterday()\n",
        "      scores.append(val)\n",
        "  elif when == 'this_week':\n",
        "    for name in lists:\n",
        "      val = name.productivity_this_week()\n",
        "      scores.append(val)\n",
        "  return scores"
      ],
      "execution_count": null,
      "outputs": []
    },
    {
      "cell_type": "code",
      "metadata": {
        "id": "VQPOIVvYHtdI"
      },
      "source": [
        "Bryan = productive(Bryan_df,\"Bryan\")\n",
        "Kaylee = productive(Kaylee_df,\"Kaylee\")\n",
        "Leony = productive(Leony_df,\"Leony\")\n",
        "Catherine = productive(Catherine_df,\"Catherine\")"
      ],
      "execution_count": null,
      "outputs": []
    },
    {
      "cell_type": "markdown",
      "metadata": {
        "id": "RADJ2Rr2lpBN"
      },
      "source": [
        "#Test"
      ]
    },
    {
      "cell_type": "code",
      "metadata": {
        "colab": {
          "base_uri": "https://localhost:8080/"
        },
        "id": "1CcFoKjpl3ry",
        "outputId": "6541d413-7431-4686-dd7e-5ea6ff3f6f87"
      },
      "source": [
        "scores_today = summary('today',Bryan,Kaylee,Leony,Catherine)"
      ],
      "execution_count": null,
      "outputs": [
        {
          "output_type": "stream",
          "name": "stdout",
          "text": [
            "Bryan productivity today is 50.0%\n",
            "Kaylee productivity today is 29.17%\n",
            "Leony productivity today is 41.67%\n",
            "Catherine productivity today is 29.17%\n"
          ]
        }
      ]
    },
    {
      "cell_type": "code",
      "metadata": {
        "id": "UJWJbvOLnqfy",
        "colab": {
          "base_uri": "https://localhost:8080/"
        },
        "outputId": "a9bd6a80-b9ea-4c7e-dbaa-86475fe93d9d"
      },
      "source": [
        "scores_yesterday = summary('yesterday',Bryan,Kaylee,Leony,Catherine)"
      ],
      "execution_count": null,
      "outputs": [
        {
          "output_type": "stream",
          "name": "stdout",
          "text": [
            "Bryan productivity yesterday is 66.67%\n",
            "Kaylee productivity yesterday is 54.17%\n",
            "Leony productivity yesterday is 37.5%\n",
            "Catherine productivity yesterday is 33.33%\n"
          ]
        }
      ]
    },
    {
      "cell_type": "code",
      "metadata": {
        "colab": {
          "base_uri": "https://localhost:8080/"
        },
        "id": "c_IseHajxwoN",
        "outputId": "868e3255-3d00-41a4-cbca-720aa97b0a94"
      },
      "source": [
        "scores_this_week = summary('this_week',Bryan,Kaylee,Leony,Catherine)"
      ],
      "execution_count": null,
      "outputs": [
        {
          "output_type": "stream",
          "name": "stdout",
          "text": [
            "Bryan productivity this week is 75.6%\n",
            "Kaylee productivity this week is 61.31%\n",
            "Leony productivity this week is 58.93%\n",
            "Catherine productivity this week is 62.5%\n"
          ]
        }
      ]
    },
    {
      "cell_type": "code",
      "metadata": {
        "colab": {
          "base_uri": "https://localhost:8080/",
          "height": 480
        },
        "id": "WnRkztwa1R_v",
        "outputId": "a9267b9d-62aa-42ce-c57b-fe55fae88ef6"
      },
      "source": [
        "date_yesterday = productive.date_yesterday\n",
        "Productivity_df.loc[date_yesterday,0:4] = list(map(lambda x : str(x)+'%',scores_yesterday))\n",
        "Productivity_df.iloc[27:,0:4]"
      ],
      "execution_count": null,
      "outputs": [
        {
          "output_type": "stream",
          "name": "stderr",
          "text": [
            "/usr/local/lib/python3.7/dist-packages/ipykernel_launcher.py:2: FutureWarning: Slicing a positional slice with .loc is not supported, and will raise TypeError in a future version.  Use .loc with labels or .iloc with positions instead.\n",
            "  \n"
          ]
        },
        {
          "output_type": "execute_result",
          "data": {
            "text/html": [
              "\n",
              "  <div id=\"df-7daec05b-ed1f-46cd-bbbd-0ce6b932604f\">\n",
              "    <div class=\"colab-df-container\">\n",
              "      <div>\n",
              "<style scoped>\n",
              "    .dataframe tbody tr th:only-of-type {\n",
              "        vertical-align: middle;\n",
              "    }\n",
              "\n",
              "    .dataframe tbody tr th {\n",
              "        vertical-align: top;\n",
              "    }\n",
              "\n",
              "    .dataframe thead th {\n",
              "        text-align: right;\n",
              "    }\n",
              "</style>\n",
              "<table border=\"1\" class=\"dataframe\">\n",
              "  <thead>\n",
              "    <tr style=\"text-align: right;\">\n",
              "      <th></th>\n",
              "      <th>Bryan</th>\n",
              "      <th>Kaylee</th>\n",
              "      <th>Leony</th>\n",
              "      <th>Catherine</th>\n",
              "    </tr>\n",
              "    <tr>\n",
              "      <th>Name / Date</th>\n",
              "      <th></th>\n",
              "      <th></th>\n",
              "      <th></th>\n",
              "      <th></th>\n",
              "    </tr>\n",
              "  </thead>\n",
              "  <tbody>\n",
              "    <tr>\n",
              "      <th>2021/12/10</th>\n",
              "      <td>79.17%</td>\n",
              "      <td>91.67%</td>\n",
              "      <td>83.33%</td>\n",
              "      <td>83.33%</td>\n",
              "    </tr>\n",
              "    <tr>\n",
              "      <th>2021/12/11</th>\n",
              "      <td>87.50%</td>\n",
              "      <td>83.33%</td>\n",
              "      <td>66.67%</td>\n",
              "      <td>95.83%</td>\n",
              "    </tr>\n",
              "    <tr>\n",
              "      <th>2021/12/12</th>\n",
              "      <td>87.50%</td>\n",
              "      <td>83.33%</td>\n",
              "      <td>79.17%</td>\n",
              "      <td>95.83%</td>\n",
              "    </tr>\n",
              "    <tr>\n",
              "      <th>NaN</th>\n",
              "      <td>88.10%</td>\n",
              "      <td>81.55%</td>\n",
              "      <td>83.33%</td>\n",
              "      <td>89.29%</td>\n",
              "    </tr>\n",
              "    <tr>\n",
              "      <th>2021/12/13</th>\n",
              "      <td>79.17%</td>\n",
              "      <td>79.17%</td>\n",
              "      <td>70.83%</td>\n",
              "      <td>79.17%</td>\n",
              "    </tr>\n",
              "    <tr>\n",
              "      <th>2021/12/14</th>\n",
              "      <td>79.17%</td>\n",
              "      <td>62.50%</td>\n",
              "      <td>45.83%</td>\n",
              "      <td>83.33%</td>\n",
              "    </tr>\n",
              "    <tr>\n",
              "      <th>2021/12/15</th>\n",
              "      <td>75.00%</td>\n",
              "      <td>66.67%</td>\n",
              "      <td>100.00%</td>\n",
              "      <td>62.50%</td>\n",
              "    </tr>\n",
              "    <tr>\n",
              "      <th>2021/12/16</th>\n",
              "      <td>79.17%</td>\n",
              "      <td>83.33%</td>\n",
              "      <td>62.50%</td>\n",
              "      <td>79.17%</td>\n",
              "    </tr>\n",
              "    <tr>\n",
              "      <th>2021/12/17</th>\n",
              "      <td>91.67%</td>\n",
              "      <td>45.83%</td>\n",
              "      <td>62.50%</td>\n",
              "      <td>41.67%</td>\n",
              "    </tr>\n",
              "    <tr>\n",
              "      <th>2021/12/18</th>\n",
              "      <td>58.33%</td>\n",
              "      <td>37.50%</td>\n",
              "      <td>33.33%</td>\n",
              "      <td>58.33%</td>\n",
              "    </tr>\n",
              "    <tr>\n",
              "      <th>2021/12/19</th>\n",
              "      <td>66.67%</td>\n",
              "      <td>54.17%</td>\n",
              "      <td>37.5%</td>\n",
              "      <td>33.33%</td>\n",
              "    </tr>\n",
              "  </tbody>\n",
              "</table>\n",
              "</div>\n",
              "      <button class=\"colab-df-convert\" onclick=\"convertToInteractive('df-7daec05b-ed1f-46cd-bbbd-0ce6b932604f')\"\n",
              "              title=\"Convert this dataframe to an interactive table.\"\n",
              "              style=\"display:none;\">\n",
              "        \n",
              "  <svg xmlns=\"http://www.w3.org/2000/svg\" height=\"24px\"viewBox=\"0 0 24 24\"\n",
              "       width=\"24px\">\n",
              "    <path d=\"M0 0h24v24H0V0z\" fill=\"none\"/>\n",
              "    <path d=\"M18.56 5.44l.94 2.06.94-2.06 2.06-.94-2.06-.94-.94-2.06-.94 2.06-2.06.94zm-11 1L8.5 8.5l.94-2.06 2.06-.94-2.06-.94L8.5 2.5l-.94 2.06-2.06.94zm10 10l.94 2.06.94-2.06 2.06-.94-2.06-.94-.94-2.06-.94 2.06-2.06.94z\"/><path d=\"M17.41 7.96l-1.37-1.37c-.4-.4-.92-.59-1.43-.59-.52 0-1.04.2-1.43.59L10.3 9.45l-7.72 7.72c-.78.78-.78 2.05 0 2.83L4 21.41c.39.39.9.59 1.41.59.51 0 1.02-.2 1.41-.59l7.78-7.78 2.81-2.81c.8-.78.8-2.07 0-2.86zM5.41 20L4 18.59l7.72-7.72 1.47 1.35L5.41 20z\"/>\n",
              "  </svg>\n",
              "      </button>\n",
              "      \n",
              "  <style>\n",
              "    .colab-df-container {\n",
              "      display:flex;\n",
              "      flex-wrap:wrap;\n",
              "      gap: 12px;\n",
              "    }\n",
              "\n",
              "    .colab-df-convert {\n",
              "      background-color: #E8F0FE;\n",
              "      border: none;\n",
              "      border-radius: 50%;\n",
              "      cursor: pointer;\n",
              "      display: none;\n",
              "      fill: #1967D2;\n",
              "      height: 32px;\n",
              "      padding: 0 0 0 0;\n",
              "      width: 32px;\n",
              "    }\n",
              "\n",
              "    .colab-df-convert:hover {\n",
              "      background-color: #E2EBFA;\n",
              "      box-shadow: 0px 1px 2px rgba(60, 64, 67, 0.3), 0px 1px 3px 1px rgba(60, 64, 67, 0.15);\n",
              "      fill: #174EA6;\n",
              "    }\n",
              "\n",
              "    [theme=dark] .colab-df-convert {\n",
              "      background-color: #3B4455;\n",
              "      fill: #D2E3FC;\n",
              "    }\n",
              "\n",
              "    [theme=dark] .colab-df-convert:hover {\n",
              "      background-color: #434B5C;\n",
              "      box-shadow: 0px 1px 3px 1px rgba(0, 0, 0, 0.15);\n",
              "      filter: drop-shadow(0px 1px 2px rgba(0, 0, 0, 0.3));\n",
              "      fill: #FFFFFF;\n",
              "    }\n",
              "  </style>\n",
              "\n",
              "      <script>\n",
              "        const buttonEl =\n",
              "          document.querySelector('#df-7daec05b-ed1f-46cd-bbbd-0ce6b932604f button.colab-df-convert');\n",
              "        buttonEl.style.display =\n",
              "          google.colab.kernel.accessAllowed ? 'block' : 'none';\n",
              "\n",
              "        async function convertToInteractive(key) {\n",
              "          const element = document.querySelector('#df-7daec05b-ed1f-46cd-bbbd-0ce6b932604f');\n",
              "          const dataTable =\n",
              "            await google.colab.kernel.invokeFunction('convertToInteractive',\n",
              "                                                     [key], {});\n",
              "          if (!dataTable) return;\n",
              "\n",
              "          const docLinkHtml = 'Like what you see? Visit the ' +\n",
              "            '<a target=\"_blank\" href=https://colab.research.google.com/notebooks/data_table.ipynb>data table notebook</a>'\n",
              "            + ' to learn more about interactive tables.';\n",
              "          element.innerHTML = '';\n",
              "          dataTable['output_type'] = 'display_data';\n",
              "          await google.colab.output.renderOutput(dataTable, element);\n",
              "          const docLink = document.createElement('div');\n",
              "          docLink.innerHTML = docLinkHtml;\n",
              "          element.appendChild(docLink);\n",
              "        }\n",
              "      </script>\n",
              "    </div>\n",
              "  </div>\n",
              "  "
            ],
            "text/plain": [
              "              Bryan  Kaylee    Leony Catherine\n",
              "Name / Date                                   \n",
              "2021/12/10   79.17%  91.67%   83.33%    83.33%\n",
              "2021/12/11   87.50%  83.33%   66.67%    95.83%\n",
              "2021/12/12   87.50%  83.33%   79.17%    95.83%\n",
              "NaN          88.10%  81.55%   83.33%    89.29%\n",
              "2021/12/13   79.17%  79.17%   70.83%    79.17%\n",
              "2021/12/14   79.17%  62.50%   45.83%    83.33%\n",
              "2021/12/15   75.00%  66.67%  100.00%    62.50%\n",
              "2021/12/16   79.17%  83.33%   62.50%    79.17%\n",
              "2021/12/17   91.67%  45.83%   62.50%    41.67%\n",
              "2021/12/18   58.33%  37.50%   33.33%    58.33%\n",
              "2021/12/19   66.67%  54.17%    37.5%    33.33%"
            ]
          },
          "metadata": {},
          "execution_count": 25
        }
      ]
    }
  ]
}